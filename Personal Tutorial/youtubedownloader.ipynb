{
 "cells": [
  {
   "cell_type": "code",
   "execution_count": 5,
   "metadata": {},
   "outputs": [],
   "source": [
    "# Import the pytube library\n",
    "import pytube\n"
   ]
  },
  {
   "cell_type": "code",
   "execution_count": 6,
   "metadata": {},
   "outputs": [
    {
     "name": "stdout",
     "output_type": "stream",
     "text": [
      "Download completed successfully\n"
     ]
    }
   ],
   "source": [
    "\n",
    "# Create a YouTube object with the video URL\n",
    "video_url = \"https://www.youtube.com/watch?v=RGOj5yH7evk&t=3173s\"\n",
    "youtube = pytube.YouTube(video_url)\n",
    "\n",
    "# Get the highest resolution stream of the video\n",
    "stream = youtube.streams.get_highest_resolution()\n",
    "\n",
    "# Download the stream to the directory\n",
    "try:\n",
    "    stream.download(\"D:\\\\\") \n",
    "    print(\"Download completed successfully\")\n",
    "except:\n",
    "    print(\"An error occurred\")"
   ]
  }
 ],
 "metadata": {
  "kernelspec": {
   "display_name": "Python 3",
   "language": "python",
   "name": "python3"
  },
  "language_info": {
   "codemirror_mode": {
    "name": "ipython",
    "version": 3
   },
   "file_extension": ".py",
   "mimetype": "text/x-python",
   "name": "python",
   "nbconvert_exporter": "python",
   "pygments_lexer": "ipython3",
   "version": "3.11.2"
  },
  "orig_nbformat": 4
 },
 "nbformat": 4,
 "nbformat_minor": 2
}
