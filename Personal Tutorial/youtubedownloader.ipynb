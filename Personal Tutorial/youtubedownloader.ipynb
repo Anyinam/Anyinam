{
 "cells": [
  {
   "cell_type": "code",
   "execution_count": 1,
   "metadata": {},
   "outputs": [],
   "source": [
    "# Import the pytube library\n",
    "import pytube\n"
   ]
  },
  {
   "cell_type": "code",
   "execution_count": 2,
   "metadata": {},
   "outputs": [
    {
     "ename": "RegexMatchError",
     "evalue": "regex_search: could not find match for (?:v=|\\/)([0-9A-Za-z_-]{11}).*",
     "output_type": "error",
     "traceback": [
      "\u001b[1;31m---------------------------------------------------------------------------\u001b[0m",
      "\u001b[1;31mRegexMatchError\u001b[0m                           Traceback (most recent call last)",
      "Cell \u001b[1;32mIn[2], line 3\u001b[0m\n\u001b[0;32m      1\u001b[0m \u001b[39m# Create a YouTube object with the video URL\u001b[39;00m\n\u001b[0;32m      2\u001b[0m video_url \u001b[39m=\u001b[39m \u001b[39m\"\u001b[39m\u001b[39mhttps://youtube.com/playlist?list=PL4cUxeGkcC9gZD-Tvwfod2gaISzfRiP9d\u001b[39m\u001b[39m\"\u001b[39m\n\u001b[1;32m----> 3\u001b[0m youtube \u001b[39m=\u001b[39m pytube\u001b[39m.\u001b[39;49mYouTube(video_url)\n\u001b[0;32m      5\u001b[0m \u001b[39m# Get the highest resolution stream of the video\u001b[39;00m\n\u001b[0;32m      6\u001b[0m stream \u001b[39m=\u001b[39m youtube\u001b[39m.\u001b[39mstreams\u001b[39m.\u001b[39mget_highest_resolution()\n",
      "File \u001b[1;32mc:\\Users\\danie\\AppData\\Local\\Programs\\Python\\Python311\\Lib\\site-packages\\pytube\\__main__.py:71\u001b[0m, in \u001b[0;36mYouTube.__init__\u001b[1;34m(self, url, on_progress_callback, on_complete_callback, proxies, use_oauth, allow_oauth_cache)\u001b[0m\n\u001b[0;32m     68\u001b[0m \u001b[39mself\u001b[39m\u001b[39m.\u001b[39m_metadata: Optional[YouTubeMetadata] \u001b[39m=\u001b[39m \u001b[39mNone\u001b[39;00m\n\u001b[0;32m     70\u001b[0m \u001b[39m# video_id part of /watch?v=<video_id>\u001b[39;00m\n\u001b[1;32m---> 71\u001b[0m \u001b[39mself\u001b[39m\u001b[39m.\u001b[39mvideo_id \u001b[39m=\u001b[39m extract\u001b[39m.\u001b[39;49mvideo_id(url)\n\u001b[0;32m     73\u001b[0m \u001b[39mself\u001b[39m\u001b[39m.\u001b[39mwatch_url \u001b[39m=\u001b[39m \u001b[39mf\u001b[39m\u001b[39m\"\u001b[39m\u001b[39mhttps://youtube.com/watch?v=\u001b[39m\u001b[39m{\u001b[39;00m\u001b[39mself\u001b[39m\u001b[39m.\u001b[39mvideo_id\u001b[39m}\u001b[39;00m\u001b[39m\"\u001b[39m\n\u001b[0;32m     74\u001b[0m \u001b[39mself\u001b[39m\u001b[39m.\u001b[39membed_url \u001b[39m=\u001b[39m \u001b[39mf\u001b[39m\u001b[39m\"\u001b[39m\u001b[39mhttps://www.youtube.com/embed/\u001b[39m\u001b[39m{\u001b[39;00m\u001b[39mself\u001b[39m\u001b[39m.\u001b[39mvideo_id\u001b[39m}\u001b[39;00m\u001b[39m\"\u001b[39m\n",
      "File \u001b[1;32mc:\\Users\\danie\\AppData\\Local\\Programs\\Python\\Python311\\Lib\\site-packages\\pytube\\extract.py:133\u001b[0m, in \u001b[0;36mvideo_id\u001b[1;34m(url)\u001b[0m\n\u001b[0;32m    118\u001b[0m \u001b[39mdef\u001b[39;00m \u001b[39mvideo_id\u001b[39m(url: \u001b[39mstr\u001b[39m) \u001b[39m-\u001b[39m\u001b[39m>\u001b[39m \u001b[39mstr\u001b[39m:\n\u001b[0;32m    119\u001b[0m \u001b[39m    \u001b[39m\u001b[39m\"\"\"Extract the ``video_id`` from a YouTube url.\u001b[39;00m\n\u001b[0;32m    120\u001b[0m \n\u001b[0;32m    121\u001b[0m \u001b[39m    This function supports the following patterns:\u001b[39;00m\n\u001b[1;32m   (...)\u001b[0m\n\u001b[0;32m    131\u001b[0m \u001b[39m        YouTube video id.\u001b[39;00m\n\u001b[0;32m    132\u001b[0m \u001b[39m    \"\"\"\u001b[39;00m\n\u001b[1;32m--> 133\u001b[0m     \u001b[39mreturn\u001b[39;00m regex_search(\u001b[39mr\u001b[39;49m\u001b[39m\"\u001b[39;49m\u001b[39m(?:v=|\u001b[39;49m\u001b[39m\\\u001b[39;49m\u001b[39m/)([0-9A-Za-z_-]\u001b[39;49m\u001b[39m{11}\u001b[39;49;00m\u001b[39m).*\u001b[39;49m\u001b[39m\"\u001b[39;49m, url, group\u001b[39m=\u001b[39;49m\u001b[39m1\u001b[39;49m)\n",
      "File \u001b[1;32mc:\\Users\\danie\\AppData\\Local\\Programs\\Python\\Python311\\Lib\\site-packages\\pytube\\helpers.py:129\u001b[0m, in \u001b[0;36mregex_search\u001b[1;34m(pattern, string, group)\u001b[0m\n\u001b[0;32m    127\u001b[0m results \u001b[39m=\u001b[39m regex\u001b[39m.\u001b[39msearch(string)\n\u001b[0;32m    128\u001b[0m \u001b[39mif\u001b[39;00m \u001b[39mnot\u001b[39;00m results:\n\u001b[1;32m--> 129\u001b[0m     \u001b[39mraise\u001b[39;00m RegexMatchError(caller\u001b[39m=\u001b[39m\u001b[39m\"\u001b[39m\u001b[39mregex_search\u001b[39m\u001b[39m\"\u001b[39m, pattern\u001b[39m=\u001b[39mpattern)\n\u001b[0;32m    131\u001b[0m logger\u001b[39m.\u001b[39mdebug(\u001b[39m\"\u001b[39m\u001b[39mmatched regex search: \u001b[39m\u001b[39m%s\u001b[39;00m\u001b[39m\"\u001b[39m, pattern)\n\u001b[0;32m    133\u001b[0m \u001b[39mreturn\u001b[39;00m results\u001b[39m.\u001b[39mgroup(group)\n",
      "\u001b[1;31mRegexMatchError\u001b[0m: regex_search: could not find match for (?:v=|\\/)([0-9A-Za-z_-]{11}).*"
     ]
    }
   ],
   "source": [
    "\n",
    "# Create a YouTube object with the video URL\n",
    "video_url = \"https://www.youtube.com/watch?v=SqcY0GlETPk\"\n",
    "youtube = pytube.YouTube(video_url)\n",
    "\n",
    "# Get the highest resolution stream of the video\n",
    "stream = youtube.streams.get_highest_resolution()\n",
    "\n",
    "# Download the stream to the directory\n",
    "try:\n",
    "    stream.download(\"D:\\\\\") \n",
    "    print(\"Download completed successfully\")\n",
    "except:\n",
    "    print(\"An error occurred\")"
   ]
  }
 ],
 "metadata": {
  "kernelspec": {
   "display_name": "Python 3",
   "language": "python",
   "name": "python3"
  },
  "language_info": {
   "codemirror_mode": {
    "name": "ipython",
    "version": 3
   },
   "file_extension": ".py",
   "mimetype": "text/x-python",
   "name": "python",
   "nbconvert_exporter": "python",
   "pygments_lexer": "ipython3",
   "version": "3.11.2"
  },
  "orig_nbformat": 4
 },
 "nbformat": 4,
 "nbformat_minor": 2
}
